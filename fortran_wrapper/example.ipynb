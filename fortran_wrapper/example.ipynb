{
 "cells": [
  {
   "cell_type": "markdown",
   "metadata": {
    "collapsed": true
   },
   "source": [
    "# Before compiling python codes"
   ]
  },
  {
   "cell_type": "markdown",
   "metadata": {},
   "source": [
    "1. Compile fortran codes in src directory\n",
    "2. Compile setup.py, which connects fortran-compiled objects with python modules\n",
    "3. This procedure is written in build.sh, therefore simply execute on terminal 'sh build.sh'"
   ]
  },
  {
   "cell_type": "markdown",
   "metadata": {},
   "source": [
    "In src directory, there are two f90 files, mesh.f90 and fmesh_wrapper.f90. mesh.f90 is a pure fortran code, and fmesh_wrapper.f90 is a code that generates C object file (fmesh_wrapper.o) from mesh.f90 and mesh.o.<br>\n",
    "In python modules only fmesh_wrapper.o is used.<br>\n",
    "If you want to use C++ code rather than fortran, you do not need fmesh_wrapper and just need to write mesh.cpp (in C++). Then C++ object file mesh.o will be used in setup.py."
   ]
  },
  {
   "cell_type": "markdown",
   "metadata": {},
   "source": [
    "setup.py connects a-priori-compiled object files with cython module fmesh.pyx (set up dependencies). You need to set up parameters according to your architecture."
   ]
  },
  {
   "cell_type": "markdown",
   "metadata": {},
   "source": [
    "# In python modules"
   ]
  },
  {
   "cell_type": "markdown",
   "metadata": {},
   "source": [
    "Import basic modules"
   ]
  },
  {
   "cell_type": "code",
   "execution_count": 1,
   "metadata": {
    "collapsed": true
   },
   "outputs": [],
   "source": [
    "import numpy as np\n",
    "import scipy as np\n",
    "import matplotlib.pyplot as plt\n",
    "%matplotlib inline"
   ]
  },
  {
   "cell_type": "markdown",
   "metadata": {},
   "source": [
    "Import fmesh module"
   ]
  },
  {
   "cell_type": "code",
   "execution_count": 2,
   "metadata": {
    "collapsed": true
   },
   "outputs": [],
   "source": [
    "from fmesh import *"
   ]
  },
  {
   "cell_type": "markdown",
   "metadata": {},
   "source": []
  },
  {
   "cell_type": "code",
   "execution_count": 9,
   "metadata": {
    "collapsed": false
   },
   "outputs": [
    {
     "data": {
      "text/plain": [
       "<matplotlib.colorbar.Colorbar at 0x108981c10>"
      ]
     },
     "execution_count": 9,
     "metadata": {},
     "output_type": "execute_result"
    },
    {
     "data": {
      "image/png": "[encoded data removed]",
      "text/plain": [
       "<matplotlib.figure.Figure at 0x108294e50>"
      ]
     },
     "metadata": {},
     "output_type": "display_data"
    }
   ],
   "source": [
    "N=10000\n",
    "np.random.seed(1231)\n",
    "xp = np.random.normal(size=N)\n",
    "yp = np.random.normal(size=N)\n",
    "Lx, Ly = 5.0, 5.0\n",
    "Ng = 20\n",
    "qmesh = mesh(Ng,Lx,Ly)\n",
    "pg = qmesh.ptc2pdf(xp,yp)\n",
    "plt.figure(1)\n",
    "plt.contour(qmesh.xg,qmesh.yg,pg)\n",
    "plt.colorbar()"
   ]
  }
 ],
 "metadata": {
  "kernelspec": {
   "display_name": "Python 2",
   "language": "python",
   "name": "python2"
  },
  "language_info": {
   "codemirror_mode": {
    "name": "ipython",
    "version": 2
   },
   "file_extension": ".py",
   "mimetype": "text/x-python",
   "name": "python",
   "nbconvert_exporter": "python",
   "pygments_lexer": "ipython2",
   "version": "2.7.12"
  }
 },
 "nbformat": 4,
 "nbformat_minor": 0
}
