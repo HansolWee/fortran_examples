{
 "cells": [
  {
   "cell_type": "markdown",
   "metadata": {
    "collapsed": true
   },
   "source": [
    "# Before compiling python codes"
   ]
  },
  {
   "cell_type": "markdown",
   "metadata": {},
   "source": [
    "1. Compile fortran codes in src directory\n",
    "2. Compile setup.py, which connects fortran-compiled objects with python modules\n",
    "3. This procedure is written in build.sh, therefore simply execute on terminal 'sh build.sh'"
   ]
  },
  {
   "cell_type": "markdown",
   "metadata": {},
   "source": [
    "In src directory, there are two f90 files, mesh.f90 and fmesh_wrapper.f90. mesh.f90 is a pure fortran code, and fmesh_wrapper.f90 is a code that generates C object file (fmesh_wrapper.o) from mesh.f90 and mesh.o.<br>\n",
    "In python modules only fmesh_wrapper.o is used.<br>\n",
    "If you want to use C++ code rather than fortran, you do not need fmesh_wrapper and just need to write mesh.cpp (in C++). Then C++ object file mesh.o will be used in setup.py."
   ]
  },
  {
   "cell_type": "markdown",
   "metadata": {},
   "source": [
    "setup.py connects a-priori-compiled object files with cython modules (set up dependencies). You need to set up parameters according to your architecture."
   ]
  },
  {
   "cell_type": "markdown",
   "metadata": {},
   "source": [
    "# In python modules"
   ]
  },
  {
   "cell_type": "markdown",
   "metadata": {},
   "source": [
    "Import basic modules"
   ]
  },
  {
   "cell_type": "code",
   "execution_count": 3,
   "metadata": {
    "collapsed": true
   },
   "outputs": [],
   "source": [
    "import numpy as np\n",
    "import scipy as np\n",
    "import matplotlib.pyplot as plt\n",
    "%matplotlib inline"
   ]
  },
  {
   "cell_type": "markdown",
   "metadata": {},
   "source": [
    "Import fmesh module"
   ]
  },
  {
   "cell_type": "code",
   "execution_count": 4,
   "metadata": {
    "collapsed": true
   },
   "outputs": [],
   "source": [
    "from fmesh import *"
   ]
  },
  {
   "cell_type": "code",
   "execution_count": 5,
   "metadata": {
    "collapsed": false
   },
   "outputs": [
    {
     "ename": "TypeError",
     "evalue": "'float' does not have the buffer interface",
     "output_type": "error",
     "traceback": [
      "\u001b[0;31m---------------------------------------------------------------------------\u001b[0m",
      "\u001b[0;31mTypeError\u001b[0m                                 Traceback (most recent call last)",
      "\u001b[0;32m<ipython-input-5-b82dd6ce3df1>\u001b[0m in \u001b[0;36m<module>\u001b[0;34m()\u001b[0m\n\u001b[1;32m      6\u001b[0m \u001b[0mNg\u001b[0m \u001b[0;34m=\u001b[0m \u001b[0;36m32\u001b[0m\u001b[0;34m\u001b[0m\u001b[0m\n\u001b[1;32m      7\u001b[0m \u001b[0mqmesh\u001b[0m \u001b[0;34m=\u001b[0m \u001b[0mmesh\u001b[0m\u001b[0;34m(\u001b[0m\u001b[0mNg\u001b[0m\u001b[0;34m,\u001b[0m\u001b[0mLx\u001b[0m\u001b[0;34m,\u001b[0m\u001b[0mLy\u001b[0m\u001b[0;34m)\u001b[0m\u001b[0;34m\u001b[0m\u001b[0m\n\u001b[0;32m----> 8\u001b[0;31m \u001b[0mpg\u001b[0m \u001b[0;34m=\u001b[0m \u001b[0mqmesh\u001b[0m\u001b[0;34m.\u001b[0m\u001b[0mptc2pdf\u001b[0m\u001b[0;34m(\u001b[0m\u001b[0mxp\u001b[0m\u001b[0;34m,\u001b[0m\u001b[0myp\u001b[0m\u001b[0;34m)\u001b[0m\u001b[0;34m\u001b[0m\u001b[0m\n\u001b[0m\u001b[1;32m      9\u001b[0m \u001b[0mplt\u001b[0m\u001b[0;34m.\u001b[0m\u001b[0mfigure\u001b[0m\u001b[0;34m(\u001b[0m\u001b[0;36m1\u001b[0m\u001b[0;34m)\u001b[0m\u001b[0;34m\u001b[0m\u001b[0m\n\u001b[1;32m     10\u001b[0m \u001b[0mplt\u001b[0m\u001b[0;34m.\u001b[0m\u001b[0mcontour\u001b[0m\u001b[0;34m(\u001b[0m\u001b[0mqmesh\u001b[0m\u001b[0;34m.\u001b[0m\u001b[0mxg\u001b[0m\u001b[0;34m,\u001b[0m\u001b[0mqmesh\u001b[0m\u001b[0;34m.\u001b[0m\u001b[0myg\u001b[0m\u001b[0;34m,\u001b[0m\u001b[0mpg\u001b[0m\u001b[0;34m)\u001b[0m\u001b[0;34m\u001b[0m\u001b[0m\n",
      "\u001b[0;32m/Users/Kevin/Desktop/fortran_examples/fortran_wrapper/fmesh.pyx\u001b[0m in \u001b[0;36mfmesh.mesh.ptc2pdf (fmesh.cpp:2342)\u001b[0;34m()\u001b[0m\n\u001b[1;32m     22\u001b[0m \u001b[0;34m\u001b[0m\u001b[0m\n\u001b[1;32m     23\u001b[0m     def ptc2pdf(self,\n\u001b[0;32m---> 24\u001b[0;31m                 \u001b[0mdouble\u001b[0m\u001b[0;34m[\u001b[0m\u001b[0;34m:\u001b[0m\u001b[0;34m]\u001b[0m \u001b[0mx\u001b[0m\u001b[0;34m,\u001b[0m \u001b[0mdouble\u001b[0m\u001b[0;34m[\u001b[0m\u001b[0;34m:\u001b[0m\u001b[0;34m]\u001b[0m \u001b[0my\u001b[0m\u001b[0;34m,\u001b[0m\u001b[0;34m\u001b[0m\u001b[0m\n\u001b[0m\u001b[1;32m     25\u001b[0m                 double[:] spwt=None):\n\u001b[1;32m     26\u001b[0m         \u001b[0mcdef\u001b[0m \u001b[0mint\u001b[0m \u001b[0mN\u001b[0m\u001b[0;34m,\u001b[0m \u001b[0mNg\u001b[0m\u001b[0;34m\u001b[0m\u001b[0m\n",
      "\u001b[0;32m/Users/Kevin/Desktop/fortran_examples/fortran_wrapper/fmesh.so\u001b[0m in \u001b[0;36mView.MemoryView.memoryview_cwrapper (fmesh.cpp:10627)\u001b[0;34m()\u001b[0m\n",
      "\u001b[0;32m/Users/Kevin/Desktop/fortran_examples/fortran_wrapper/fmesh.so\u001b[0m in \u001b[0;36mView.MemoryView.memoryview.__cinit__ (fmesh.cpp:6996)\u001b[0;34m()\u001b[0m\n",
      "\u001b[0;31mTypeError\u001b[0m: 'float' does not have the buffer interface"
     ]
    }
   ],
   "source": [
    "N=10000\n",
    "np.random.seed(1231)\n",
    "xp = np.random.normal(N)\n",
    "yp = np.random.normal(N)\n",
    "Lx, Ly = 5.0, 5.0\n",
    "Ng = 32\n",
    "qmesh = mesh(Ng,Lx,Ly)\n",
    "pg = qmesh.ptc2pdf(xp,yp)\n",
    "plt.figure(1)\n",
    "plt.contour(qmesh.xg,qmesh.yg,pg)\n",
    "plt.colorbar()"
   ]
  }
 ],
 "metadata": {
  "kernelspec": {
   "display_name": "Python 2",
   "language": "python",
   "name": "python2"
  },
  "language_info": {
   "codemirror_mode": {
    "name": "ipython",
    "version": 2
   },
   "file_extension": ".py",
   "mimetype": "text/x-python",
   "name": "python",
   "nbconvert_exporter": "python",
   "pygments_lexer": "ipython2",
   "version": "2.7.12"
  }
 },
 "nbformat": 4,
 "nbformat_minor": 0
}
